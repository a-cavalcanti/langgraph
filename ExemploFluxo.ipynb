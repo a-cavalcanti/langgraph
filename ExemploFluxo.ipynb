{
 "cells": [
  {
   "cell_type": "code",
   "execution_count": 1,
   "metadata": {},
   "outputs": [
    {
     "name": "stderr",
     "output_type": "stream",
     "text": [
      "USER_AGENT environment variable not set, consider setting it to identify your requests.\n"
     ]
    }
   ],
   "source": [
    "from dotenv import load_dotenv\n",
    "load_dotenv()\n",
    "\n",
    "from langchain_community.document_loaders import WebBaseLoader\n",
    "from langchain_community.vectorstores import Chroma\n",
    "from langchain_openai import OpenAIEmbeddings\n",
    "from langchain_text_splitters import RecursiveCharacterTextSplitter\n",
    "from langchain.tools.retriever import create_retriever_tool\n",
    "\n",
    "from langchain_core.tools import tool\n",
    "from langchain_core.output_parsers import StrOutputParser\n",
    "from langchain_core.prompts import PromptTemplate\n",
    "from typing import Literal\n",
    "\n",
    "from langchain_core.prompts import ChatPromptTemplate\n",
    "from pydantic import BaseModel, Field\n",
    "from langchain_openai import ChatOpenAI\n",
    "from typing import List\n",
    "\n",
    "from IPython.display import Image, display\n",
    "from typing_extensions import TypedDict"
   ]
  },
  {
   "cell_type": "code",
   "execution_count": 3,
   "metadata": {},
   "outputs": [],
   "source": [
    "urls = [\n",
    "    \"https://www.rdstation.com/blog/marketing/marketing/\",\n",
    "    \"https://www.rdstation.com/blog/vendas/vendas/\",\n",
    "    \"https://langchain-ai.github.io/langgraph/tutorials/introduction/\"\n",
    "]\n",
    "\n",
    "names = [\"Marketing\", \"Vendas\", \"Ajuda\"]\n",
    "\n",
    "docs = [WebBaseLoader(url).load() for url in urls]\n",
    "docs_list = [item for sublist in docs for item in sublist]\n",
    "\n",
    "text_splitter = RecursiveCharacterTextSplitter.from_tiktoken_encoder(\n",
    "    chunk_size=100, chunk_overlap=50\n",
    ")"
   ]
  },
  {
   "cell_type": "code",
   "execution_count": 5,
   "metadata": {},
   "outputs": [],
   "source": [
    "retrievers = {}\n",
    "for doc,name in zip(docs_list, names):\n",
    "    split = text_splitter.split_documents([doc])\n",
    "    vectorstore = Chroma.from_documents(\n",
    "        documents=split,\n",
    "        collection_name=name,\n",
    "        embedding=OpenAIEmbeddings(),\n",
    "    )\n",
    "    retriever_tool = create_retriever_tool(vectorstore.as_retriever(search_kwargs={\"k\": 3}), f\"retrieve_{name}_posts\", f\"Ferramenta para buscar informações sobre {name}\")\n",
    "    retrievers.update({name:retriever_tool})"
   ]
  },
  {
   "cell_type": "code",
   "execution_count": 6,
   "metadata": {},
   "outputs": [],
   "source": [
    "llm = ChatOpenAI(model_name=\"gpt-4o-mini\", temperature=0)"
   ]
  },
  {
   "cell_type": "code",
   "execution_count": 7,
   "metadata": {},
   "outputs": [],
   "source": [
    "from langgraph.graph import END, StateGraph, START\n",
    "\n",
    "class GraphState(TypedDict):\n",
    "    question: str\n",
    "    generation: str\n",
    "    collection: str\n",
    "    documents: List[str]\n",
    "\n",
    "prompt = \"\"\"\n",
    "Você é um assistente com capacidade de realizar buscas para ajudar seus clientes que virão com dúvidas sobre algumas áreas distintas da empresa.\n",
    "\n",
    "Para responder as dúvidas você tem um contexto personalizado:\n",
    "\n",
    "{context}\n",
    "\n",
    "Segue a pergunta do usuário:\n",
    "\"{question}\"\n",
    "\n",
    "\"\"\"\n",
    "\n",
    "prompt = PromptTemplate.from_template(prompt)\n",
    "\n",
    "rag_chain = prompt | llm | StrOutputParser()\n",
    "\n",
    "class RouteQuery(BaseModel):\n",
    "    \"\"\"Route a user query to the most relevant datasource.\"\"\"\n",
    "\n",
    "    path: Literal[\"greet\", \"about\", \"contact\", \"question\"] = Field(\n",
    "        ...,\n",
    "        description=\"Dada uma pergunta do usuário, você precisa decidir se é um cumprimento, se o usuário quer saber mais sobre você, se ele deseja informação de contato ou se é uma dúvida\"\n",
    "    )\n",
    "\n",
    "structured_llm_router = llm.with_structured_output(RouteQuery)\n",
    "\n",
    "system = \"\"\"Você é um especialista em encaminhar um usuário para o local correto.\n",
    "Existem quatro possibilidades:\n",
    "\n",
    "Greet - quando a mensagem do usuário for apenas uma simples saudação.\n",
    "About - quando o usuário deseja saber mais sobre você e suas capacidades.\n",
    "Contact - quando o usuário deseja obter informações sobre como entrar em contato conosco.\n",
    "Question - quando o usuário tem uma dúvida real sobre o conteúdo.\n",
    "\"\"\"\n",
    "route_prompt = ChatPromptTemplate.from_messages(\n",
    "    [\n",
    "        (\"system\", system),\n",
    "        (\"human\", \"{question}\"),\n",
    "    ]\n",
    ")\n",
    "\n",
    "question_router = route_prompt | structured_llm_router\n",
    "\n",
    "def route_question(state):\n",
    "    print(\"-\"*8)\n",
    "    print(\"Começando roteamento\")\n",
    "\n",
    "    question = state[\"question\"]\n",
    "    source = question_router.invoke({\"question\": question})\n",
    "\n",
    "    if source.path == \"greet\":\n",
    "        print(\"Cumprimento\")\n",
    "        return \"greet\"\n",
    "    elif source.path == \"about\":\n",
    "        print(\"Sobre\")\n",
    "        return \"about\"\n",
    "    elif source.path == \"contact\":\n",
    "        print(\"Contato\")\n",
    "        return \"contact\"\n",
    "    \n",
    "    print(\"Pergunta\")\n",
    "    return \"question\"\n",
    "\n",
    "class RouteRAG(BaseModel):\n",
    "\n",
    "    path: Literal[\"Marketing\", \"Vendas\", \"Ajuda\"] = Field(\n",
    "        ...,\n",
    "        description=\"Dada uma pergunta do usuário você precisa decidir o tópico da conversa entre Marketing, Vendas ou Ajuda\"\n",
    "    )\n",
    "\n",
    "structured_llm_router = llm.with_structured_output(RouteRAG)\n",
    "\n",
    "system = \"\"\"Você precisa decidir o tópico da conversa entre três opções:\n",
    "Marketing, Vendas ou Ajuda.\n",
    "\"\"\"\n",
    "\n",
    "RAG_prompt = ChatPromptTemplate.from_messages(\n",
    "    [\n",
    "        (\"system\", system),\n",
    "        (\"human\", \"{question}\"),\n",
    "    ]\n",
    ")\n",
    "\n",
    "RAG_router = RAG_prompt | structured_llm_router\n",
    "\n",
    "def retrieve(state):\n",
    "    question = state[\"question\"]\n",
    "    collection = RAG_router.invoke({\"question\": question}).path\n",
    "    print(f\"Realizando busca vetorial no banco de {collection}\")\n",
    "    \n",
    "    documents = retrievers.get(collection).invoke(question)\n",
    "    return {\"documents\": documents, \"question\": question}\n",
    "\n",
    "def generate(state):\n",
    "    print(\"Gerando resposta\")\n",
    "    print(\"-\"*8)\n",
    "\n",
    "    question = state[\"question\"]\n",
    "    documents = state[\"documents\"]\n",
    "\n",
    "    generation = rag_chain.invoke({\"context\": documents, \"question\": question})\n",
    "    return {\"documents\": documents, \"question\": question, \"generation\": generation}\n",
    "\n",
    "def greet(state):\n",
    "    print(\"Cumprimentando o usuário\")\n",
    "    print(\"-\"*8)\n",
    "    question = state[\"question\"]\n",
    "    message = \"Olá, como você está?\"\n",
    "    return {\"question\": question, \"generation\": message}\n",
    "\n",
    "def about(state):\n",
    "    print(\"Devolvendo informações sobre o modelo\")\n",
    "    print(\"-\"*8)\n",
    "    question = state[\"question\"]\n",
    "    message = \"Eu sou o assistente de apoio, posso te ajudar com dúvidas e dar informações sobre as áreas de Marketing, Vendas e Ajuda. O que você precisa hoje?\"\n",
    "    return {\"question\": question, \"generation\": message}\n",
    "\n",
    "def contact(state):\n",
    "    print(\"Devolvendo informações de contato\")\n",
    "    print(\"-\"*8)\n",
    "    question = state[\"question\"]\n",
    "    message = \"\"\"Os nossos canais de atendimento são:\n",
    "                    Pelo número: (12) 3456-7890\n",
    "                    Pelo e-mail: atendimento@gmail.com\n",
    "    \"\"\"\n",
    "    return {\"question\": question, \"generation\": message}"
   ]
  },
  {
   "cell_type": "code",
   "execution_count": 8,
   "metadata": {},
   "outputs": [],
   "source": [
    "workflow = StateGraph(GraphState)\n",
    "workflow.add_node(\"retrieve\", retrieve)\n",
    "workflow.add_node(\"generate\", generate)\n",
    "workflow.add_node(\"greet\", greet)\n",
    "workflow.add_node(\"about\", about)\n",
    "workflow.add_node(\"contact\", contact)\n",
    "workflow.add_conditional_edges(\n",
    "    START,\n",
    "    route_question,\n",
    "    {\n",
    "        \"about\": \"about\",\n",
    "        \"greet\": \"greet\",\n",
    "        \"contact\": \"contact\",\n",
    "        \"question\": \"retrieve\"\n",
    "    },\n",
    ")\n",
    "workflow.add_edge(\"retrieve\", \"generate\")\n",
    "workflow.add_edge(\"greet\", END)\n",
    "workflow.add_edge(\"about\", END)\n",
    "workflow.add_edge(\"contact\", END)\n",
    "workflow.add_edge(\"generate\", END)\n",
    "app = workflow.compile()"
   ]
  },
  {
   "cell_type": "code",
   "execution_count": 9,
   "metadata": {},
   "outputs": [
    {
     "data": {
      "image/jpeg": "[encoded data removed]",
      "text/plain": [
       "<IPython.core.display.Image object>"
      ]
     },
     "metadata": {},
     "output_type": "display_data"
    }
   ],
   "source": [
    "display(Image(app.get_graph().draw_mermaid_png()))"
   ]
  },
  {
   "cell_type": "code",
   "execution_count": 10,
   "metadata": {},
   "outputs": [],
   "source": [
    "import pprint\n",
    "from langchain_community.callbacks import get_openai_callback"
   ]
  },
  {
   "cell_type": "code",
   "execution_count": 11,
   "metadata": {},
   "outputs": [],
   "source": [
    "def send_question(question):\n",
    "    with get_openai_callback() as cb:\n",
    "        result = app.invoke(input= {\n",
    "            \"question\": question\n",
    "        })\n",
    "    print(result.get(\"generation\"))\n",
    "    print()\n",
    "    print(cb)"
   ]
  },
  {
   "cell_type": "code",
   "execution_count": 12,
   "metadata": {},
   "outputs": [
    {
     "name": "stdout",
     "output_type": "stream",
     "text": [
      "--------\n",
      "Começando roteamento\n",
      "Comprimento\n",
      "Cumprimentando o usuário\n",
      "--------\n",
      "Olá, como você está?\n",
      "\n",
      "Tokens Used: 192\n",
      "\tPrompt Tokens: 186\n",
      "\tCompletion Tokens: 6\n",
      "Successful Requests: 1\n",
      "Total Cost (USD): $3.15e-05\n"
     ]
    }
   ],
   "source": [
    "send_question(\"Bom dia!\")"
   ]
  },
  {
   "cell_type": "code",
   "execution_count": 13,
   "metadata": {},
   "outputs": [
    {
     "name": "stdout",
     "output_type": "stream",
     "text": [
      "--------\n",
      "Começando roteamento\n",
      "Sobre\n",
      "Devolvendo informações sobre o modelo\n",
      "--------\n",
      "Eu sou o assistente de apoio, posso te ajudar com dúvidas e dar informações sobre as áreas de Marketing, Vendas e Ajuda. O que você precisa hoje?\n",
      "\n",
      "Tokens Used: 196\n",
      "\tPrompt Tokens: 191\n",
      "\tCompletion Tokens: 5\n",
      "Successful Requests: 1\n",
      "Total Cost (USD): $3.165e-05\n"
     ]
    }
   ],
   "source": [
    "send_question(\"O que você pode fazer por mim?\")"
   ]
  },
  {
   "cell_type": "code",
   "execution_count": 14,
   "metadata": {},
   "outputs": [
    {
     "name": "stdout",
     "output_type": "stream",
     "text": [
      "--------\n",
      "Começando roteamento\n",
      "Contato\n",
      "Devolvendo informações de contato\n",
      "--------\n",
      "Os nossos canais de atendimento são:\n",
      "                    Pelo número: (12) 3456-7890\n",
      "                    Pelo e-mail: atendimento@gmail.com\n",
      "    \n",
      "\n",
      "Tokens Used: 202\n",
      "\tPrompt Tokens: 197\n",
      "\tCompletion Tokens: 5\n",
      "Successful Requests: 1\n",
      "Total Cost (USD): $3.255e-05\n"
     ]
    }
   ],
   "source": [
    "send_question(\"Preciso de um telefone para falar com alguém, pode me ajudar?\")"
   ]
  },
  {
   "cell_type": "code",
   "execution_count": 15,
   "metadata": {},
   "outputs": [
    {
     "name": "stdout",
     "output_type": "stream",
     "text": [
      "--------\n",
      "Começando roteamento\n",
      "Pergunta\n",
      "Realizando busca vetorial no banco de Marketing\n",
      "Gerando resposta\n",
      "--------\n",
      "Para melhorar a performance das suas campanhas publicitárias, você pode seguir algumas estratégias eficazes:\n",
      "\n",
      "1. **Segmentação de Público**: Utilize dados demográficos, comportamentais e de interesse para segmentar seu público-alvo de forma mais precisa. Isso permitirá que suas mensagens sejam mais relevantes e impactantes.\n",
      "\n",
      "2. **Testes A/B**: Realize testes A/B com diferentes criativos, chamadas para ação (CTAs) e segmentações. Isso ajudará a identificar quais elementos funcionam melhor e a otimizar suas campanhas com base nos resultados.\n",
      "\n",
      "3. **Otimização de Anúncios**: Analise o desempenho dos seus anúncios regularmente. Ajuste lances, palavras-chave e segmentações com base nas métricas de desempenho, como CTR (taxa de cliques) e conversões.\n",
      "\n",
      "4. **Criatividade e Mensagem**: Invista em criativos atraentes e mensagens que ressoem com seu público. Utilize imagens de alta qualidade, vídeos envolventes e textos que chamem a atenção.\n",
      "\n",
      "5. **Remarketing**: Implemente estratégias de remarketing para alcançar usuários que já interagiram com sua marca. Isso pode aumentar as chances de conversão, pois você estará se dirigindo a um público que já demonstrou interesse.\n",
      "\n",
      "6. **Análise de Dados**: Utilize ferramentas de análise para monitorar o desempenho das suas campanhas. Acompanhe métricas como ROI (retorno sobre investimento), CPA (custo por aquisição) e outras KPIs relevantes.\n",
      "\n",
      "7. **Ajustes em Tempo Real**: Esteja preparado para fazer ajustes em tempo real com base no desempenho das campanhas. Se algo não estiver funcionando, não hesite em mudar a abordagem.\n",
      "\n",
      "8. **Integração com Email Marketing**: Considere integrar suas campanhas de mídia paga com estratégias de email marketing. Isso pode ajudar a nutrir leads e aumentar a conversão.\n",
      "\n",
      "9. **Acompanhamento de Tendências**: Fique atento às tendências do mercado e às mudanças nas plataformas de anúncios. Isso pode ajudá-lo a adaptar suas estratégias e se manter competitivo.\n",
      "\n",
      "10. **Feedback e Aprendizado**: Colete feedback de sua equipe e de seus clientes sobre as campanhas. Aprender com a experiência pode levar a melhorias contínuas.\n",
      "\n",
      "Implementando essas estratégias, você poderá otimizar suas campanhas publicitárias e alcançar melhores resultados.\n",
      "\n",
      "Tokens Used: 990\n",
      "\tPrompt Tokens: 498\n",
      "\tCompletion Tokens: 492\n",
      "Successful Requests: 3\n",
      "Total Cost (USD): $0.00036989999999999994\n"
     ]
    }
   ],
   "source": [
    "send_question(\"Como posso melhorar a performance das minhas campanhas publicitárias?\")"
   ]
  },
  {
   "cell_type": "code",
   "execution_count": 16,
   "metadata": {},
   "outputs": [
    {
     "name": "stdout",
     "output_type": "stream",
     "text": [
      "--------\n",
      "Começando roteamento\n",
      "Pergunta\n",
      "Realizando busca vetorial no banco de Vendas\n",
      "Gerando resposta\n",
      "--------\n",
      "Fazer uma oferta para um cliente de maneira eficaz envolve algumas etapas importantes. Aqui estão algumas dicas para garantir que sua oferta seja bem recebida:\n",
      "\n",
      "1. **Entenda as Necessidades do Cliente**: Antes de fazer uma oferta, é fundamental entender as necessidades e desafios do cliente. Faça perguntas abertas para descobrir o que ele realmente precisa e quais problemas está enfrentando.\n",
      "\n",
      "2. **Personalize a Oferta**: Com base nas informações coletadas, personalize sua oferta para que ela se alinhe diretamente às necessidades do cliente. Mostre como sua solução pode resolver os problemas específicos que ele mencionou.\n",
      "\n",
      "3. **Destaque os Benefícios**: Em vez de apenas listar características do seu produto ou serviço, foque nos benefícios que o cliente obterá. Explique como sua solução pode melhorar a eficiência, reduzir custos ou aumentar a satisfação do cliente.\n",
      "\n",
      "4. **Use Provas Sociais**: Inclua depoimentos, estudos de caso ou exemplos de outros clientes que se beneficiaram da sua solução. Isso ajuda a construir credibilidade e confiança.\n",
      "\n",
      "5. **Seja Claro e Conciso**: Apresente sua oferta de forma clara e direta. Evite jargões e informações desnecessárias que possam confundir o cliente.\n",
      "\n",
      "6. **Crie Urgência**: Se apropriado, adicione um elemento de urgência à sua oferta, como uma promoção por tempo limitado ou um desconto especial. Isso pode incentivar o cliente a tomar uma decisão mais rapidamente.\n",
      "\n",
      "7. **Esteja Preparado para Objeções**: Antecipe possíveis objeções e esteja pronto para abordá-las. Encare as objeções como uma oportunidade para esclarecer dúvidas e reforçar o valor da sua oferta.\n",
      "\n",
      "8. **Finalize com um Chamado à Ação**: Encerre sua apresentação com um claro chamado à ação, incentivando o cliente a dar o próximo passo, seja agendando uma reunião, fazendo uma compra ou solicitando mais informações.\n",
      "\n",
      "Seguindo essas etapas, você aumentará suas chances de fazer uma oferta que ressoe com o cliente e leve a uma conversão bem-sucedida.\n",
      "\n",
      "Tokens Used: 907\n",
      "\tPrompt Tokens: 470\n",
      "\tCompletion Tokens: 437\n",
      "Successful Requests: 3\n",
      "Total Cost (USD): $0.00033269999999999996\n"
     ]
    }
   ],
   "source": [
    "send_question(\"Qual o modo correto de fazer uma oferta para um cliente?\")"
   ]
  },
  {
   "cell_type": "code",
   "execution_count": 17,
   "metadata": {},
   "outputs": [
    {
     "name": "stdout",
     "output_type": "stream",
     "text": [
      "--------\n",
      "Começando roteamento\n",
      "Pergunta\n",
      "Realizando busca vetorial no banco de Ajuda\n",
      "Gerando resposta\n",
      "--------\n",
      "A documentação sobre agentes geralmente aborda os diferentes componentes e funções que eles desempenham. Aqui estão os principais componentes de um agente autônomo:\n",
      "\n",
      "1. **Agente de Planejamento**: Este agente é responsável por determinar a estratégia geral e os passos necessários para alcançar um objetivo.\n",
      "\n",
      "2. **Agente de Pesquisa**: Este componente coleta as informações necessárias para a execução das tarefas, garantindo que o agente tenha os dados relevantes.\n",
      "\n",
      "3. **Agente de Revisão**: Avalia e refina o trabalho realizado, garantindo que a qualidade e a precisão das informações estejam em conformidade com os padrões desejados.\n",
      "\n",
      "4. **Agente de Redação**: Produz o resultado final, seja um relatório, um artigo ou qualquer outro tipo de documento.\n",
      "\n",
      "5. **Agente de Publicação**: Cuida da distribuição final ou aplicação dos resultados, garantindo que o produto final chegue ao público-alvo.\n",
      "\n",
      "Esses componentes trabalham em conjunto para criar um sistema de agentes autônomos eficaz e eficiente. Se precisar de mais informações ou detalhes específicos, sinta-se à vontade para perguntar!\n",
      "\n",
      "Tokens Used: 810\n",
      "\tPrompt Tokens: 578\n",
      "\tCompletion Tokens: 232\n",
      "Successful Requests: 3\n",
      "Total Cost (USD): $0.00022590000000000002\n"
     ]
    }
   ],
   "source": [
    "send_question(\"O que a documentação diz sobre agentes?\")"
   ]
  },
  {
   "cell_type": "code",
   "execution_count": null,
   "metadata": {},
   "outputs": [],
   "source": []
  }
 ],
 "metadata": {
  "kernelspec": {
   "display_name": "venv",
   "language": "python",
   "name": "python3"
  },
  "language_info": {
   "codemirror_mode": {
    "name": "ipython",
    "version": 3
   },
   "file_extension": ".py",
   "mimetype": "text/x-python",
   "name": "python",
   "nbconvert_exporter": "python",
   "pygments_lexer": "ipython3",
   "version": "3.10.12"
  }
 },
 "nbformat": 4,
 "nbformat_minor": 2
}
