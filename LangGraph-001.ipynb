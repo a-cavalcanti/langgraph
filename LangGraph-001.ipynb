{
 "cells": [
  {
   "cell_type": "markdown",
   "id": "311e55bc-b7d1-498c-ad95-b6af8df5d874",
   "metadata": {},
   "source": [
    "**Install**:\n",
    "```\n",
    "pip install -U langchain \\\n",
    "    langgraph==0.1.19 \\\n",
    "    langchain_openai \\\n",
    "    langchainhub \\\n",
    "    langchain_experimental\n",
    "```"
   ]
  },
  {
   "cell_type": "code",
   "execution_count": 1,
   "id": "eb1df011-7cf7-4409-aa3f-8b97bd7f9613",
   "metadata": {},
   "outputs": [],
   "source": [
    "import os\n",
    "from dotenv import load_dotenv\n",
    "load_dotenv('./.env')\n",
    "\n",
    "os.environ[\"LANGCHAIN_PROJECT\"] = \"Demo LangGraph 001\""
   ]
  },
  {
   "cell_type": "markdown",
   "id": "9bdfcd92-acc9-4d70-b828-b3c89dbe305b",
   "metadata": {},
   "source": [
    "### GraphState"
   ]
  },
  {
   "cell_type": "code",
   "execution_count": 2,
   "id": "05659a97-04ed-4228-93d2-9de037a3bf89",
   "metadata": {},
   "outputs": [],
   "source": [
    "import operator\n",
    "from typing import TypedDict, Annotated, List, Union\n",
    "from langchain_core.agents import AgentAction, AgentFinish\n",
    "from langchain_core.messages import BaseMessage\n",
    "\n",
    "class AgentState(TypedDict):\n",
    "    input: str\n",
    "    chat_history: list[BaseMessage]\n",
    "    agent_outcome: Union[AgentAction, AgentFinish, None]\n",
    "    intermediate_steps: Annotated[list[tuple[AgentAction, str]], operator.add]"
   ]
  },
  {
   "cell_type": "markdown",
   "id": "7707e734-9382-4c75-a382-f18e8dcf2be5",
   "metadata": {},
   "source": [
    "### Custom Tools"
   ]
  },
  {
   "cell_type": "code",
   "execution_count": 3,
   "id": "507ad475-9f9f-45de-9b0f-cdac95e14fc4",
   "metadata": {},
   "outputs": [],
   "source": [
    "from langchain.tools import BaseTool, StructuredTool, Tool, tool\n",
    "import random\n",
    "\n",
    "@tool(\"lower_case\", return_direct=True)\n",
    "def to_lower_case(input:str) -> str:\n",
    "    \"\"\"Retorna a entrada em minúsculas\"\"\"\n",
    "    return input.lower()\n",
    "\n",
    "@tool(\"random_number\", return_direct=True)\n",
    "def random_number_maker(input:str) -> str:\n",
    "    \"\"\"Retorna um número entre 0 e 100\"\"\"\n",
    "    return random.randint(0, 100)\n",
    "\n",
    "tools = [to_lower_case, random_number_maker]"
   ]
  },
  {
   "cell_type": "code",
   "execution_count": 4,
   "id": "c6912f0b-a1a8-4094-ac62-9f13f681909c",
   "metadata": {},
   "outputs": [
    {
     "data": {
      "text/plain": [
       "22"
      ]
     },
     "execution_count": 4,
     "metadata": {},
     "output_type": "execute_result"
    }
   ],
   "source": [
    "random_number_maker.run('random')"
   ]
  },
  {
   "cell_type": "code",
   "execution_count": 5,
   "id": "91f27179-7183-4455-85be-cc4b8938efee",
   "metadata": {},
   "outputs": [
    {
     "data": {
      "text/plain": [
       "'daniel'"
      ]
     },
     "execution_count": 5,
     "metadata": {},
     "output_type": "execute_result"
    }
   ],
   "source": [
    "to_lower_case.run('DANIEL')"
   ]
  },
  {
   "cell_type": "markdown",
   "id": "642b82be-a7d7-4283-b646-94964899db52",
   "metadata": {},
   "source": [
    "### Agent com (create_openai_functions_agent)"
   ]
  },
  {
   "cell_type": "code",
   "execution_count": 6,
   "id": "759f2470-10e2-4317-b4a2-b2043c2e0feb",
   "metadata": {},
   "outputs": [],
   "source": [
    "from langchain import hub\n",
    "from langchain.agents import create_openai_functions_agent\n",
    "from langchain_openai.chat_models import ChatOpenAI\n",
    "\n",
    "prompt = hub.pull(\"hwchase17/openai-functions-agent\")\n",
    "llm = ChatOpenAI(model=\"gpt-3.5-turbo\", streaming=True)\n",
    "\n",
    "agent_runnable = create_openai_functions_agent(llm, tools, prompt)"
   ]
  },
  {
   "cell_type": "code",
   "execution_count": 7,
   "id": "bcee71bc-12a3-4a75-b0f2-f66666ca1dfa",
   "metadata": {},
   "outputs": [
    {
     "data": {
      "text/plain": [
       "ChatPromptTemplate(input_variables=['agent_scratchpad', 'input'], optional_variables=['chat_history'], input_types={'chat_history': typing.List[typing.Union[langchain_core.messages.ai.AIMessage, langchain_core.messages.human.HumanMessage, langchain_core.messages.chat.ChatMessage, langchain_core.messages.system.SystemMessage, langchain_core.messages.function.FunctionMessage, langchain_core.messages.tool.ToolMessage]], 'agent_scratchpad': typing.List[typing.Union[langchain_core.messages.ai.AIMessage, langchain_core.messages.human.HumanMessage, langchain_core.messages.chat.ChatMessage, langchain_core.messages.system.SystemMessage, langchain_core.messages.function.FunctionMessage, langchain_core.messages.tool.ToolMessage]]}, partial_variables={'chat_history': []}, metadata={'lc_hub_owner': 'hwchase17', 'lc_hub_repo': 'openai-functions-agent', 'lc_hub_commit_hash': 'a1655024b06afbd95d17449f21316291e0726f13dcfaf990cc0d18087ad689a5'}, messages=[SystemMessagePromptTemplate(prompt=PromptTemplate(input_variables=[], template='You are a helpful assistant')), MessagesPlaceholder(variable_name='chat_history', optional=True), HumanMessagePromptTemplate(prompt=PromptTemplate(input_variables=['input'], template='{input}')), MessagesPlaceholder(variable_name='agent_scratchpad')])"
      ]
     },
     "execution_count": 7,
     "metadata": {},
     "output_type": "execute_result"
    }
   ],
   "source": [
    "prompt"
   ]
  },
  {
   "cell_type": "code",
   "execution_count": 8,
   "id": "ceeab1a6-2138-45e2-9144-05daa4e44e85",
   "metadata": {},
   "outputs": [
    {
     "data": {
      "text/plain": [
       "[ChatPromptTemplate(input_variables=['agent_scratchpad', 'input'], optional_variables=['chat_history'], input_types={'chat_history': typing.List[typing.Union[langchain_core.messages.ai.AIMessage, langchain_core.messages.human.HumanMessage, langchain_core.messages.chat.ChatMessage, langchain_core.messages.system.SystemMessage, langchain_core.messages.function.FunctionMessage, langchain_core.messages.tool.ToolMessage]], 'agent_scratchpad': typing.List[typing.Union[langchain_core.messages.ai.AIMessage, langchain_core.messages.human.HumanMessage, langchain_core.messages.chat.ChatMessage, langchain_core.messages.system.SystemMessage, langchain_core.messages.function.FunctionMessage, langchain_core.messages.tool.ToolMessage]]}, partial_variables={'chat_history': []}, metadata={'lc_hub_owner': 'hwchase17', 'lc_hub_repo': 'openai-functions-agent', 'lc_hub_commit_hash': 'a1655024b06afbd95d17449f21316291e0726f13dcfaf990cc0d18087ad689a5'}, messages=[SystemMessagePromptTemplate(prompt=PromptTemplate(input_variables=[], template='You are a helpful assistant')), MessagesPlaceholder(variable_name='chat_history', optional=True), HumanMessagePromptTemplate(prompt=PromptTemplate(input_variables=['input'], template='{input}')), MessagesPlaceholder(variable_name='agent_scratchpad')])]"
      ]
     },
     "execution_count": 8,
     "metadata": {},
     "output_type": "execute_result"
    }
   ],
   "source": [
    "prompt.get_prompts()"
   ]
  },
  {
   "cell_type": "code",
   "execution_count": 9,
   "id": "db6bd0ef-9329-4454-bbe3-3aefc0624cbb",
   "metadata": {},
   "outputs": [],
   "source": [
    "inputs = {\"input\": \"gere um número aleatório e escreva por extenso em minúsculas.\",\n",
    "          \"chat_history\":[],\n",
    "          \"intermediate_steps\":[]}\n",
    "\n",
    "agent_outcome = agent_runnable.invoke(inputs)"
   ]
  },
  {
   "cell_type": "code",
   "execution_count": 10,
   "id": "ce01c36c-9ff6-41c3-a6d6-e30f8bc22628",
   "metadata": {},
   "outputs": [
    {
     "data": {
      "text/plain": [
       "AgentActionMessageLog(tool='random_number', tool_input={'input': 'random'}, log=\"\\nInvoking: `random_number` with `{'input': 'random'}`\\n\\n\\n\", message_log=[AIMessage(content='', additional_kwargs={'function_call': {'arguments': '{\"input\":\"random\"}', 'name': 'random_number'}}, response_metadata={'finish_reason': 'function_call', 'model_name': 'gpt-3.5-turbo-0125'}, id='run-57b3baa7-1dbf-4018-8033-4b90e4b4d445-0')])"
      ]
     },
     "execution_count": 10,
     "metadata": {},
     "output_type": "execute_result"
    }
   ],
   "source": [
    "agent_outcome"
   ]
  },
  {
   "cell_type": "code",
   "execution_count": 11,
   "id": "54f06e38-7d3e-4af8-b333-b7b3138a1daf",
   "metadata": {},
   "outputs": [
    {
     "data": {
      "text/plain": [
       "langchain_core.runnables.base.RunnableSequence"
      ]
     },
     "execution_count": 11,
     "metadata": {},
     "output_type": "execute_result"
    }
   ],
   "source": [
    "type(agent_runnable)"
   ]
  },
  {
   "cell_type": "markdown",
   "id": "de55fe23-9b4c-44b8-9e86-af433d979f64",
   "metadata": {},
   "source": [
    "### Nodes"
   ]
  },
  {
   "cell_type": "code",
   "execution_count": 12,
   "id": "4eb2fc17-5d8c-4ac1-80a4-173ce3f5d9fd",
   "metadata": {},
   "outputs": [],
   "source": [
    "from langchain_core.agents import AgentFinish\n",
    "from langgraph.prebuilt.tool_executor import ToolExecutor\n",
    "\n",
    "tool_executor = ToolExecutor(tools)"
   ]
  },
  {
   "cell_type": "code",
   "execution_count": 13,
   "id": "72f3a708-0e15-4066-aa9c-717c5c62276b",
   "metadata": {},
   "outputs": [],
   "source": [
    "def run_agent(data):\n",
    "    agent_outcome = agent_runnable.invoke(data)\n",
    "    return {\"agent_outcome\": agent_outcome}\n",
    "\n",
    "def execute_tools(data):\n",
    "    agent_action = data['agent_outcome']\n",
    "    output = tool_executor.invoke(agent_action)\n",
    "    print(f\"The agent action is {agent_action}\")\n",
    "    print(f\"The tool result is: {output}\")\n",
    "    return {\"intermediate_steps\": [(agent_action, str(output))]}\n",
    "\n",
    "def should_continue(data):\n",
    "    if isinstance(data['agent_outcome'], AgentFinish):\n",
    "        return \"end\"\n",
    "    else:\n",
    "        return \"continue\""
   ]
  },
  {
   "cell_type": "markdown",
   "id": "196f95b5-ac0a-4e3d-8f0f-8a9b083a58d7",
   "metadata": {},
   "source": [
    "### Graph"
   ]
  },
  {
   "cell_type": "code",
   "execution_count": 14,
   "id": "ed02bcd3-a4d4-479e-aa35-db697a762791",
   "metadata": {},
   "outputs": [],
   "source": [
    "from langgraph.graph import END, StateGraph\n",
    "\n",
    "workflow = StateGraph(AgentState)\n",
    "\n",
    "workflow.add_node(\"agent\", run_agent)\n",
    "workflow.add_node(\"action\", execute_tools)\n",
    "workflow.set_entry_point(\"agent\")\n",
    "\n",
    "workflow.add_conditional_edges(\n",
    "    \"agent\",\n",
    "    should_continue,\n",
    "    {\n",
    "        \"continue\": \"action\",\n",
    "        \"end\": END\n",
    "    }\n",
    ")\n",
    "\n",
    "workflow.add_edge('action', 'agent')\n",
    "\n",
    "app = workflow.compile()"
   ]
  },
  {
   "cell_type": "code",
   "execution_count": 15,
   "id": "202345f9-ae69-44f5-8bd5-858b56076756",
   "metadata": {},
   "outputs": [
    {
     "data": {
      "text/plain": [
       "defaultdict(dict,\n",
       "            {'agent': {'should_continue': Branch(path=should_continue(recurse=True), ends={'continue': 'action', 'end': '__end__'}, then=None)}})"
      ]
     },
     "execution_count": 15,
     "metadata": {},
     "output_type": "execute_result"
    }
   ],
   "source": [
    "workflow.branches"
   ]
  },
  {
   "cell_type": "code",
   "execution_count": 16,
   "id": "0e8292b3-e241-40b3-af28-0b4ce8621d5c",
   "metadata": {},
   "outputs": [
    {
     "data": {
      "text/plain": [
       "({'agent': StateNodeSpec(runnable=agent(recurse=True), metadata=None, input=<class '__main__.AgentState'>, retry_policy=None),\n",
       "  'action': StateNodeSpec(runnable=action(recurse=True), metadata=None, input=<class '__main__.AgentState'>, retry_policy=None)},\n",
       " {('__start__', 'agent'), ('action', 'agent')})"
      ]
     },
     "execution_count": 16,
     "metadata": {},
     "output_type": "execute_result"
    }
   ],
   "source": [
    "workflow.nodes, workflow.edges"
   ]
  },
  {
   "cell_type": "code",
   "execution_count": 17,
   "id": "707f16bf-b3ce-4785-bdf1-b99ec325713e",
   "metadata": {},
   "outputs": [
    {
     "data": {
      "text/plain": [
       "{'input': <langgraph.channels.last_value.LastValue at 0x116831bb0>,\n",
       " 'chat_history': <langgraph.channels.last_value.LastValue at 0x116831c10>,\n",
       " 'agent_outcome': <langgraph.channels.last_value.LastValue at 0x116831be0>,\n",
       " 'intermediate_steps': <langgraph.channels.binop.BinaryOperatorAggregate at 0x116831e50>}"
      ]
     },
     "execution_count": 17,
     "metadata": {},
     "output_type": "execute_result"
    }
   ],
   "source": [
    "workflow.channels"
   ]
  },
  {
   "cell_type": "code",
   "execution_count": 18,
   "id": "0e72913f-9047-4fbb-aba2-f3c06d0b60fd",
   "metadata": {},
   "outputs": [
    {
     "name": "stdout",
     "output_type": "stream",
     "text": [
      "{'agent_outcome': AgentActionMessageLog(tool='random_number', tool_input={'input': 'random'}, log=\"\\nInvoking: `random_number` with `{'input': 'random'}`\\n\\n\\n\", message_log=[AIMessage(content='', additional_kwargs={'function_call': {'arguments': '{\"input\":\"random\"}', 'name': 'random_number'}}, response_metadata={'finish_reason': 'function_call', 'model_name': 'gpt-3.5-turbo-0125'}, id='run-8c32735e-a663-4ca0-be60-06017983b8ae-0')])}\n",
      "----\n",
      "The agent action is tool='random_number' tool_input={'input': 'random'} log=\"\\nInvoking: `random_number` with `{'input': 'random'}`\\n\\n\\n\" message_log=[AIMessage(content='', additional_kwargs={'function_call': {'arguments': '{\"input\":\"random\"}', 'name': 'random_number'}}, response_metadata={'finish_reason': 'function_call', 'model_name': 'gpt-3.5-turbo-0125'}, id='run-8c32735e-a663-4ca0-be60-06017983b8ae-0')]\n",
      "The tool result is: 54\n",
      "{'intermediate_steps': [(AgentActionMessageLog(tool='random_number', tool_input={'input': 'random'}, log=\"\\nInvoking: `random_number` with `{'input': 'random'}`\\n\\n\\n\", message_log=[AIMessage(content='', additional_kwargs={'function_call': {'arguments': '{\"input\":\"random\"}', 'name': 'random_number'}}, response_metadata={'finish_reason': 'function_call', 'model_name': 'gpt-3.5-turbo-0125'}, id='run-8c32735e-a663-4ca0-be60-06017983b8ae-0')]), '54')]}\n",
      "----\n",
      "{'agent_outcome': AgentActionMessageLog(tool='lower_case', tool_input={'input': 'fifty four'}, log=\"\\nInvoking: `lower_case` with `{'input': 'fifty four'}`\\n\\n\\n\", message_log=[AIMessage(content='', additional_kwargs={'function_call': {'arguments': '{\"input\":\"fifty four\"}', 'name': 'lower_case'}}, response_metadata={'finish_reason': 'function_call', 'model_name': 'gpt-3.5-turbo-0125'}, id='run-6609ab1c-bc3c-4e93-8311-0d3d6052d410-0')])}\n",
      "----\n",
      "The agent action is tool='lower_case' tool_input={'input': 'fifty four'} log=\"\\nInvoking: `lower_case` with `{'input': 'fifty four'}`\\n\\n\\n\" message_log=[AIMessage(content='', additional_kwargs={'function_call': {'arguments': '{\"input\":\"fifty four\"}', 'name': 'lower_case'}}, response_metadata={'finish_reason': 'function_call', 'model_name': 'gpt-3.5-turbo-0125'}, id='run-6609ab1c-bc3c-4e93-8311-0d3d6052d410-0')]\n",
      "The tool result is: fifty four\n",
      "{'intermediate_steps': [(AgentActionMessageLog(tool='lower_case', tool_input={'input': 'fifty four'}, log=\"\\nInvoking: `lower_case` with `{'input': 'fifty four'}`\\n\\n\\n\", message_log=[AIMessage(content='', additional_kwargs={'function_call': {'arguments': '{\"input\":\"fifty four\"}', 'name': 'lower_case'}}, response_metadata={'finish_reason': 'function_call', 'model_name': 'gpt-3.5-turbo-0125'}, id='run-6609ab1c-bc3c-4e93-8311-0d3d6052d410-0')]), 'fifty four')]}\n",
      "----\n",
      "{'agent_outcome': AgentFinish(return_values={'output': 'O número aleatório gerado foi 54, e por extenso em minúsculas é \"fifty four\".'}, log='O número aleatório gerado foi 54, e por extenso em minúsculas é \"fifty four\".')}\n",
      "----\n"
     ]
    }
   ],
   "source": [
    "inputs = {\"input\": \"gere um número aleatório e escreva por extenso em minúsculas.\", \"chat_history\": []}\n",
    "for s in app.stream(inputs):\n",
    "    print(list(s.values())[0])\n",
    "    print(\"----\")"
   ]
  },
  {
   "cell_type": "code",
   "execution_count": 19,
   "id": "ce11c65c-8640-4c7f-bf2e-4deb1cd7e06b",
   "metadata": {},
   "outputs": [
    {
     "name": "stdout",
     "output_type": "stream",
     "text": [
      "The agent action is tool='random_number' tool_input={'input': 'random'} log=\"\\nInvoking: `random_number` with `{'input': 'random'}`\\n\\n\\n\" message_log=[AIMessage(content='', additional_kwargs={'function_call': {'arguments': '{\"input\":\"random\"}', 'name': 'random_number'}}, response_metadata={'finish_reason': 'function_call', 'model_name': 'gpt-3.5-turbo-0125'}, id='run-35d31fac-cc7a-468c-8b2f-1f046bf9ce8d-0')]\n",
      "The tool result is: 92\n",
      "The agent action is tool='lower_case' tool_input={'input': 'noventa e dois'} log=\"\\nInvoking: `lower_case` with `{'input': 'noventa e dois'}`\\n\\n\\n\" message_log=[AIMessage(content='', additional_kwargs={'function_call': {'arguments': '{\"input\":\"noventa e dois\"}', 'name': 'lower_case'}}, response_metadata={'finish_reason': 'function_call', 'model_name': 'gpt-3.5-turbo-0125'}, id='run-c497d890-5175-43f4-b46f-afb6a19c8122-0')]\n",
      "The tool result is: noventa e dois\n"
     ]
    }
   ],
   "source": [
    "inputs = {\"input\": \"gere um número aleatório e escreva por extenso em minúsculas.\", \"chat_history\": []}\n",
    "output = app.invoke(inputs)"
   ]
  },
  {
   "cell_type": "code",
   "execution_count": 20,
   "id": "b721dc03-1dac-4dd2-bf9b-2f0935944c37",
   "metadata": {},
   "outputs": [
    {
     "data": {
      "text/plain": [
       "'O número aleatório gerado foi 92, e por extenso em minúsculas é \"noventa e dois\".'"
      ]
     },
     "execution_count": 20,
     "metadata": {},
     "output_type": "execute_result"
    }
   ],
   "source": [
    "output.get(\"agent_outcome\").return_values['output']"
   ]
  },
  {
   "cell_type": "code",
   "execution_count": 21,
   "id": "1dc8cd54-e7f9-4d0a-a1fc-58adf090ef78",
   "metadata": {},
   "outputs": [
    {
     "data": {
      "text/plain": [
       "[(AgentActionMessageLog(tool='random_number', tool_input={'input': 'random'}, log=\"\\nInvoking: `random_number` with `{'input': 'random'}`\\n\\n\\n\", message_log=[AIMessage(content='', additional_kwargs={'function_call': {'arguments': '{\"input\":\"random\"}', 'name': 'random_number'}}, response_metadata={'finish_reason': 'function_call', 'model_name': 'gpt-3.5-turbo-0125'}, id='run-35d31fac-cc7a-468c-8b2f-1f046bf9ce8d-0')]),\n",
       "  '92'),\n",
       " (AgentActionMessageLog(tool='lower_case', tool_input={'input': 'noventa e dois'}, log=\"\\nInvoking: `lower_case` with `{'input': 'noventa e dois'}`\\n\\n\\n\", message_log=[AIMessage(content='', additional_kwargs={'function_call': {'arguments': '{\"input\":\"noventa e dois\"}', 'name': 'lower_case'}}, response_metadata={'finish_reason': 'function_call', 'model_name': 'gpt-3.5-turbo-0125'}, id='run-c497d890-5175-43f4-b46f-afb6a19c8122-0')]),\n",
       "  'noventa e dois')]"
      ]
     },
     "execution_count": 21,
     "metadata": {},
     "output_type": "execute_result"
    }
   ],
   "source": [
    "output.get(\"intermediate_steps\")"
   ]
  },
  {
   "cell_type": "code",
   "execution_count": 22,
   "id": "6fbfe9c8-0ba5-4aa1-bea1-d742f510dae5",
   "metadata": {},
   "outputs": [],
   "source": [
    "inputs = {\"input\": \"quantos meses tem 1 ano?\", \"chat_history\": []}\n",
    "\n",
    "output = app.invoke(inputs)"
   ]
  },
  {
   "cell_type": "code",
   "execution_count": 23,
   "id": "c7f6d23e-24a1-4b33-89be-4e9b1796281a",
   "metadata": {},
   "outputs": [
    {
     "data": {
      "text/plain": [
       "'Um ano tem 12 meses.'"
      ]
     },
     "execution_count": 23,
     "metadata": {},
     "output_type": "execute_result"
    }
   ],
   "source": [
    "output.get(\"agent_outcome\").return_values['output']"
   ]
  },
  {
   "cell_type": "code",
   "execution_count": 24,
   "id": "603f33da-3370-4b2b-a0fc-c5a8b719d268",
   "metadata": {},
   "outputs": [
    {
     "data": {
      "text/plain": [
       "[]"
      ]
     },
     "execution_count": 24,
     "metadata": {},
     "output_type": "execute_result"
    }
   ],
   "source": [
    "output.get(\"intermediate_steps\")"
   ]
  },
  {
   "cell_type": "code",
   "execution_count": null,
   "id": "e30c2e69-deab-4d54-8063-affa0d2cbdc3",
   "metadata": {},
   "outputs": [],
   "source": []
  }
 ],
 "metadata": {
  "kernelspec": {
   "display_name": "venv",
   "language": "python",
   "name": "python3"
  },
  "language_info": {
   "codemirror_mode": {
    "name": "ipython",
    "version": 3
   },
   "file_extension": ".py",
   "mimetype": "text/x-python",
   "name": "python",
   "nbconvert_exporter": "python",
   "pygments_lexer": "ipython3",
   "version": "3.10.12"
  }
 },
 "nbformat": 4,
 "nbformat_minor": 5
}
