{
 "cells": [
  {
   "cell_type": "markdown",
   "id": "bf4c472d-8291-4767-a456-8522705b735c",
   "metadata": {},
   "source": [
    "**Install**:\n",
    "```\n",
    "pip install -U langchain \\\n",
    "    langgraph==0.1.19 \\\n",
    "    langchain_openai \\\n",
    "    langchainhub \\\n",
    "    langchain_experimental\n",
    "```"
   ]
  },
  {
   "cell_type": "code",
   "execution_count": 1,
   "id": "09ecd28f-ceee-4c2e-9480-82e3a374f6e8",
   "metadata": {},
   "outputs": [],
   "source": [
    "import os\n",
    "from dotenv import load_dotenv\n",
    "load_dotenv('./.env')\n",
    "\n",
    "os.environ[\"LANGCHAIN_PROJECT\"] = \"Demo LangGraph 002\""
   ]
  },
  {
   "cell_type": "markdown",
   "id": "888c1f6a-771d-4ed6-9c52-f0a643b128e2",
   "metadata": {},
   "source": [
    "### Model"
   ]
  },
  {
   "cell_type": "code",
   "execution_count": 2,
   "id": "d8d76f34-53ab-4558-b627-0ccbcd0780e6",
   "metadata": {},
   "outputs": [],
   "source": [
    "from langchain_openai import ChatOpenAI\n",
    "\n",
    "model = ChatOpenAI(temperature=0, streaming=True)"
   ]
  },
  {
   "cell_type": "markdown",
   "id": "9dc984e6-27ab-45a1-800a-dd970ffb261f",
   "metadata": {},
   "source": [
    "### Tools"
   ]
  },
  {
   "cell_type": "code",
   "execution_count": 3,
   "id": "490a0703-73ed-4ef2-8e89-ad623f0eb457",
   "metadata": {},
   "outputs": [],
   "source": [
    "from langchain.tools import BaseTool, StructuredTool, Tool, tool\n",
    "import random\n",
    "\n",
    "@tool(\"lower_case\", return_direct=True)\n",
    "def to_lower_case(input:str) -> str:\n",
    "    \"\"\"Retorna a entrada em minúsculas\"\"\"\n",
    "    return input.lower()\n",
    "\n",
    "@tool(\"random_number\", return_direct=True)\n",
    "def random_number_maker(input:str) -> str:\n",
    "    \"\"\"Retorna um número entre 0 e 100, mostrando a palavra 'random'\"\"\"\n",
    "    return random.randint(0, 100)\n",
    "\n",
    "tools = [to_lower_case, random_number_maker]"
   ]
  },
  {
   "cell_type": "code",
   "execution_count": 4,
   "id": "e0daf0a7-7cfe-458d-b589-307637a3840f",
   "metadata": {},
   "outputs": [],
   "source": [
    "from langgraph.prebuilt.tool_executor import ToolExecutor\n",
    "from langchain.tools.render import format_tool_to_openai_function\n",
    "from langchain_core.utils.function_calling import convert_to_openai_function\n",
    "\n",
    "tool_executor = ToolExecutor(tools)\n",
    "\n",
    "functions = [convert_to_openai_function(t) for t in tools]\n",
    "model = model.bind_functions(functions)"
   ]
  },
  {
   "cell_type": "markdown",
   "id": "c84a81d3-bed0-4143-b073-d4f2015c3661",
   "metadata": {},
   "source": [
    "### AgentState"
   ]
  },
  {
   "cell_type": "code",
   "execution_count": 5,
   "id": "bcb8c570-b9f8-4667-8551-c694f6ca1eeb",
   "metadata": {},
   "outputs": [],
   "source": [
    "from typing import TypedDict, Annotated, Sequence\n",
    "import operator\n",
    "from langchain_core.messages import BaseMessage\n",
    "\n",
    "\n",
    "class AgentState(TypedDict):\n",
    "    messages: Annotated[Sequence[BaseMessage], operator.add]"
   ]
  },
  {
   "cell_type": "markdown",
   "id": "ebdd3738-9740-47dd-8c24-467020dfff33",
   "metadata": {},
   "source": [
    "### Nodes"
   ]
  },
  {
   "cell_type": "code",
   "execution_count": 6,
   "id": "ffb46299-a74d-460f-9d8b-ffbd1db53737",
   "metadata": {},
   "outputs": [],
   "source": [
    "from langchain_core.agents import AgentFinish\n",
    "from langgraph.prebuilt import ToolInvocation\n",
    "import json\n",
    "from langchain_core.messages import FunctionMessage\n",
    "\n",
    "def should_continue(state):\n",
    "    messages = state['messages']\n",
    "    last_message = messages[-1]\n",
    "    if \"function_call\" not in last_message.additional_kwargs:\n",
    "        return \"end\"\n",
    "    else:\n",
    "        return \"continue\"\n",
    "\n",
    "def call_model(state):\n",
    "    messages = state['messages']\n",
    "    response = model.invoke(messages)\n",
    "    return {\"messages\": [response]}\n",
    "\n",
    "def call_tool(state):\n",
    "    messages = state['messages']\n",
    "    last_message = messages[-1]\n",
    "\n",
    "    action = ToolInvocation(\n",
    "        tool=last_message.additional_kwargs[\"function_call\"][\"name\"],\n",
    "        tool_input=json.loads(last_message.additional_kwargs[\"function_call\"][\"arguments\"]),\n",
    "    )\n",
    "    print(f\"The agent action is {action}\")\n",
    "\n",
    "    response = tool_executor.invoke(action)\n",
    "    print(f\"The tool result is: {response}\")\n",
    "\n",
    "    function_message = FunctionMessage(content=str(response), name=action.tool)\n",
    "    return {\"messages\": [function_message]}"
   ]
  },
  {
   "cell_type": "markdown",
   "id": "95a269b1-352e-4daa-bc33-7fb38275cb69",
   "metadata": {},
   "source": [
    "### Graph"
   ]
  },
  {
   "cell_type": "code",
   "execution_count": 7,
   "id": "3d4312f8-5981-41d8-bd28-031101552a8f",
   "metadata": {},
   "outputs": [],
   "source": [
    "from langgraph.graph import StateGraph, END\n",
    "\n",
    "workflow = StateGraph(AgentState)\n",
    "\n",
    "workflow.add_node(\"agent\", call_model)\n",
    "workflow.add_node(\"action\", call_tool)\n",
    "workflow.set_entry_point(\"agent\")\n",
    "\n",
    "workflow.add_conditional_edges(\n",
    "    \"agent\",\n",
    "    should_continue,\n",
    "    {\n",
    "        \"continue\": \"action\",\n",
    "        \"end\": END\n",
    "    }\n",
    ")\n",
    "\n",
    "workflow.add_edge('action', 'agent')\n",
    "\n",
    "app = workflow.compile()"
   ]
  },
  {
   "cell_type": "markdown",
   "id": "a713a75a-9e8c-4d1a-91aa-596524e9b65c",
   "metadata": {},
   "source": [
    "### Run"
   ]
  },
  {
   "cell_type": "code",
   "execution_count": 8,
   "id": "27e2d681-1104-4ce5-9c81-3ed4a298af2b",
   "metadata": {},
   "outputs": [
    {
     "name": "stdout",
     "output_type": "stream",
     "text": [
      "The agent action is tool='random_number' tool_input={'input': 'random'}\n",
      "The tool result is: 41\n",
      "The agent action is tool='lower_case' tool_input={'input': 'quarenta e um'}\n",
      "The tool result is: quarenta e um\n"
     ]
    },
    {
     "data": {
      "text/plain": [
       "{'messages': [SystemMessage(content='você é um assistente útil'),\n",
       "  HumanMessage(content='gere um número aleatório e escreva por extenso em minúsculas.'),\n",
       "  AIMessage(content='', additional_kwargs={'function_call': {'arguments': '{\"input\":\"random\"}', 'name': 'random_number'}}, response_metadata={'finish_reason': 'function_call', 'model_name': 'gpt-3.5-turbo-0125'}, id='run-4c45b7e7-8774-4290-abbc-340854fb8e20-0'),\n",
       "  FunctionMessage(content='41', name='random_number'),\n",
       "  AIMessage(content='', additional_kwargs={'function_call': {'arguments': '{\"input\":\"quarenta e um\"}', 'name': 'lower_case'}}, response_metadata={'finish_reason': 'function_call', 'model_name': 'gpt-3.5-turbo-0125'}, id='run-a94e3736-c857-4f04-a895-af87b73290ca-0'),\n",
       "  FunctionMessage(content='quarenta e um', name='lower_case'),\n",
       "  AIMessage(content='O número aleatório gerado foi 41, e por extenso em minúsculas é \"quarenta e um\".', response_metadata={'finish_reason': 'stop', 'model_name': 'gpt-3.5-turbo-0125'}, id='run-865b1f5e-3520-4ab1-ad40-613020bc6b42-0')]}"
      ]
     },
     "execution_count": 8,
     "metadata": {},
     "output_type": "execute_result"
    }
   ],
   "source": [
    "from langchain_core.messages import HumanMessage, SystemMessage\n",
    "\n",
    "system_message = SystemMessage(content=\"você é um assistente útil\")\n",
    "user_01 = HumanMessage(content=\"gere um número aleatório e escreva por extenso em minúsculas.\")\n",
    "\n",
    "inputs = {\"messages\": [system_message,user_01]}\n",
    "app.invoke(inputs)"
   ]
  },
  {
   "cell_type": "code",
   "execution_count": 9,
   "id": "1002aeb9-44d6-47cd-bf8b-507ccdf9ff98",
   "metadata": {},
   "outputs": [
    {
     "name": "stdout",
     "output_type": "stream",
     "text": [
      "The agent action is tool='lower_case' tool_input={'input': 'Daniel'}\n",
      "The tool result is: daniel\n"
     ]
    },
    {
     "data": {
      "text/plain": [
       "{'messages': [SystemMessage(content='você é um assistente útil'),\n",
       "  HumanMessage(content=\"por favor escreva 'Daniel' em minúsculas\"),\n",
       "  AIMessage(content='', additional_kwargs={'function_call': {'arguments': '{\"input\":\"Daniel\"}', 'name': 'lower_case'}}, response_metadata={'finish_reason': 'function_call', 'model_name': 'gpt-3.5-turbo-0125'}, id='run-ea49103c-557f-4802-8596-fc59926569c1-0'),\n",
       "  FunctionMessage(content='daniel', name='lower_case'),\n",
       "  AIMessage(content='Aqui está: \"daniel\"', response_metadata={'finish_reason': 'stop', 'model_name': 'gpt-3.5-turbo-0125'}, id='run-e19f821d-fc59-4854-9454-be479ab98c4f-0')]}"
      ]
     },
     "execution_count": 9,
     "metadata": {},
     "output_type": "execute_result"
    }
   ],
   "source": [
    "from langchain_core.messages import HumanMessage, SystemMessage\n",
    "\n",
    "system_message = SystemMessage(content=\"você é um assistente útil\")\n",
    "user_01 = HumanMessage(content=\"por favor escreva 'Daniel' em minúsculas\")\n",
    "\n",
    "inputs = {\"messages\": [system_message,user_01]}\n",
    "app.invoke(inputs)"
   ]
  },
  {
   "cell_type": "code",
   "execution_count": 10,
   "id": "52c318c8-6e40-4283-9a8d-f0d60da81dbf",
   "metadata": {},
   "outputs": [
    {
     "data": {
      "text/plain": [
       "{'messages': [SystemMessage(content='você é um assistente útil'),\n",
       "  HumanMessage(content='o que é machine learning?'),\n",
       "  AIMessage(content='Machine learning é um campo da inteligência artificial que se concentra no desenvolvimento de algoritmos e modelos que permitem aos computadores aprender e tomar decisões com base em dados, sem serem explicitamente programados. Em vez disso, os algoritmos de machine learning são treinados com conjuntos de dados para identificar padrões e fazer previsões ou tomar decisões com base nesses padrões. Essa capacidade de aprender com os dados e melhorar com a experiência é o que torna o machine learning uma ferramenta poderosa em uma variedade de aplicações, como reconhecimento de padrões, análise de dados, previsão de tendências e muito mais.', response_metadata={'finish_reason': 'stop', 'model_name': 'gpt-3.5-turbo-0125'}, id='run-f105e0b9-1699-4327-83c1-9a1c2afbb781-0')]}"
      ]
     },
     "execution_count": 10,
     "metadata": {},
     "output_type": "execute_result"
    }
   ],
   "source": [
    "from langchain_core.messages import HumanMessage, SystemMessage\n",
    "\n",
    "system_message = SystemMessage(content=\"você é um assistente útil\")\n",
    "user_01 = HumanMessage(content=\"o que é machine learning?\")\n",
    "\n",
    "inputs = {\"messages\": [system_message,user_01]}\n",
    "app.invoke(inputs)"
   ]
  },
  {
   "cell_type": "code",
   "execution_count": null,
   "id": "0be4da0f-9537-4a54-b13a-334552bc4cda",
   "metadata": {},
   "outputs": [],
   "source": []
  }
 ],
 "metadata": {
  "kernelspec": {
   "display_name": "Python 3 (ipykernel)",
   "language": "python",
   "name": "python3"
  },
  "language_info": {
   "codemirror_mode": {
    "name": "ipython",
    "version": 3
   },
   "file_extension": ".py",
   "mimetype": "text/x-python",
   "name": "python",
   "nbconvert_exporter": "python",
   "pygments_lexer": "ipython3",
   "version": "3.12.4"
  }
 },
 "nbformat": 4,
 "nbformat_minor": 5
}
